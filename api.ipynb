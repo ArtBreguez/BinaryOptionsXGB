{
 "cells": [
  {
   "cell_type": "code",
   "execution_count": 67,
   "id": "7b9415e8-511b-4879-8447-e2ccdb05f4e3",
   "metadata": {
    "tags": []
   },
   "outputs": [
    {
     "name": "stdout",
     "output_type": "stream",
     "text": [
      "\n",
      "added 30 packages, and audited 31 packages in 7s\n",
      "\n",
      "1 package is looking for funding\n",
      "  run `npm fund` for details\n",
      "\n",
      "found 0 vulnerabilities\n"
     ]
    },
    {
     "name": "stderr",
     "output_type": "stream",
     "text": [
      "npm WARN config global `--global`, `--local` are deprecated. Use `--location=global` instead.\n",
      "npm notice \n",
      "npm notice New major version of npm available! 8.11.0 -> 9.6.5\n",
      "npm notice Changelog: <https://github.com/npm/cli/releases/tag/v9.6.5>\n",
      "npm notice Run `npm install -g npm@9.6.5` to update!\n",
      "npm notice \n"
     ]
    }
   ],
   "source": [
    "!npm install dukascopy-node --save"
   ]
  },
  {
   "cell_type": "code",
   "execution_count": 107,
   "id": "7061b8bc-1a4b-47fc-9608-8c2da6beea41",
   "metadata": {
    "tags": []
   },
   "outputs": [
    {
     "name": "stdout",
     "output_type": "stream",
     "text": [
      "\u001b[90m----------------------------------------------------\u001b[39m\n",
      "\u001b[97mDownloading historical price data for:\u001b[39m\n",
      "\u001b[90m----------------------------------------------------\u001b[39m\n",
      "Instrument:     \u001b[1m\u001b[33mUS Dollar vs Canadian Dollar\u001b[39m\u001b[22m\n",
      "Timeframe:      \u001b[1m\u001b[33mh1\u001b[39m\u001b[22m\n",
      "From date:      \u001b[1m\u001b[33mApr 21, 2023, 12 AM\u001b[39m\u001b[22m\n",
      "To date:        \u001b[1m\u001b[33mApr 21, 2023, 9 PM\u001b[39m\u001b[22m\n",
      "Price type:     \u001b[1m\u001b[33mbid\u001b[39m\u001b[22m\n",
      "Volumes:        \u001b[1m\u001b[33mtrue\u001b[39m\u001b[22m\n",
      "UTC Offset:     \u001b[1m\u001b[33m0\u001b[39m\u001b[22m\n",
      "Include flats:  \u001b[1m\u001b[33mfalse\u001b[39m\u001b[22m\n",
      "Format:         \u001b[1m\u001b[33mjson\u001b[39m\u001b[22m\n",
      "\u001b[90m----------------------------------------------------\u001b[39m\n",
      "\u001b[90m----------------------------------------------------\u001b[39m\n",
      "\u001b[92mâˆš File saved: \u001b[1mdownload\\usdcad-h1-bid-2023-04-21-2023-04-21.json\u001b[22m (212 Bytes)\u001b[39m\n",
      "\n",
      "Download time: 6.1s\n",
      "\n"
     ]
    },
    {
     "name": "stderr",
     "output_type": "stream",
     "text": [
      "npm WARN config global `--global`, `--local` are deprecated. Use `--location=global` instead.\n"
     ]
    }
   ],
   "source": [
    "!npx dukascopy-node -i usdcad -from 2023-04-21 -to 2023-04-23 -t h1 -f json --volumes\n"
   ]
  },
  {
   "cell_type": "code",
   "execution_count": 106,
   "id": "e20a853b-7928-4808-9435-2cf8db85429e",
   "metadata": {
    "tags": []
   },
   "outputs": [
    {
     "name": "stdout",
     "output_type": "stream",
     "text": [
      "\u001b[90m----------------------------------------------------\u001b[39m\n",
      "\u001b[97mDownloading historical price data for:\u001b[39m\n",
      "\u001b[90m----------------------------------------------------\u001b[39m\n",
      "Instrument:     \u001b[1m\u001b[33mUS Brent Crude Oil\u001b[39m\u001b[22m\n",
      "Timeframe:      \u001b[1m\u001b[33mh1\u001b[39m\u001b[22m\n",
      "From date:      \u001b[1m\u001b[33mApr 21, 2023, 12 AM\u001b[39m\u001b[22m\n",
      "To date:        \u001b[1m\u001b[33mApr 21, 2023, 9 PM\u001b[39m\u001b[22m\n",
      "Price type:     \u001b[1m\u001b[33mbid\u001b[39m\u001b[22m\n",
      "Volumes:        \u001b[1m\u001b[33mtrue\u001b[39m\u001b[22m\n",
      "UTC Offset:     \u001b[1m\u001b[33m0\u001b[39m\u001b[22m\n",
      "Include flats:  \u001b[1m\u001b[33mfalse\u001b[39m\u001b[22m\n",
      "Format:         \u001b[1m\u001b[33mjson\u001b[39m\u001b[22m\n",
      "\u001b[90m----------------------------------------------------\u001b[39m\n",
      "\u001b[90m----------------------------------------------------\u001b[39m\n",
      "\u001b[92mâˆš File saved: \u001b[1mdownload\\brentcmdusd-h1-bid-2023-04-21-2023-04-21.json\u001b[22m (405 Bytes)\u001b[39m\n",
      "\n",
      "Download time: 6.8s\n",
      "\n"
     ]
    },
    {
     "name": "stderr",
     "output_type": "stream",
     "text": [
      "npm WARN config global `--global`, `--local` are deprecated. Use `--location=global` instead.\n"
     ]
    }
   ],
   "source": [
    "!npx dukascopy-node -i brentcmdusd -from 2023-04-21 -to 2023-04-23 -t h1 -f json --volumes\n"
   ]
  },
  {
   "cell_type": "code",
   "execution_count": 114,
   "id": "a2901418-4c24-41b3-a010-6264acffe962",
   "metadata": {
    "tags": []
   },
   "outputs": [
    {
     "data": {
      "text/html": [
       "<div>\n",
       "<style scoped>\n",
       "    .dataframe tbody tr th:only-of-type {\n",
       "        vertical-align: middle;\n",
       "    }\n",
       "\n",
       "    .dataframe tbody tr th {\n",
       "        vertical-align: top;\n",
       "    }\n",
       "\n",
       "    .dataframe thead th {\n",
       "        text-align: right;\n",
       "    }\n",
       "</style>\n",
       "<table border=\"1\" class=\"dataframe\">\n",
       "  <thead>\n",
       "    <tr style=\"text-align: right;\">\n",
       "      <th></th>\n",
       "      <th>Open_usdcad</th>\n",
       "      <th>High_usdcad</th>\n",
       "      <th>Low_usdcad</th>\n",
       "      <th>Close_usdcad</th>\n",
       "      <th>Volume_usdcad</th>\n",
       "      <th>Open_oil</th>\n",
       "      <th>High_oil</th>\n",
       "      <th>Low_oil</th>\n",
       "      <th>Close_oil</th>\n",
       "      <th>Volume_oil</th>\n",
       "      <th>year</th>\n",
       "      <th>month</th>\n",
       "      <th>day</th>\n",
       "      <th>hour</th>\n",
       "    </tr>\n",
       "  </thead>\n",
       "  <tbody>\n",
       "    <tr>\n",
       "      <th>0</th>\n",
       "      <td>1.35375</td>\n",
       "      <td>1.3541</td>\n",
       "      <td>1.35338</td>\n",
       "      <td>1.3534</td>\n",
       "      <td>1892.87</td>\n",
       "      <td>81.565</td>\n",
       "      <td>81.785</td>\n",
       "      <td>81.525</td>\n",
       "      <td>81.745</td>\n",
       "      <td>0.0157</td>\n",
       "      <td>2023</td>\n",
       "      <td>4</td>\n",
       "      <td>21</td>\n",
       "      <td>20</td>\n",
       "    </tr>\n",
       "  </tbody>\n",
       "</table>\n",
       "</div>"
      ],
      "text/plain": [
       "   Open_usdcad  High_usdcad  Low_usdcad  Close_usdcad  Volume_usdcad  \\\n",
       "0      1.35375       1.3541     1.35338        1.3534        1892.87   \n",
       "\n",
       "   Open_oil  High_oil  Low_oil  Close_oil  Volume_oil  year  month  day  hour  \n",
       "0    81.565    81.785   81.525     81.745      0.0157  2023      4   21    20  "
      ]
     },
     "execution_count": 114,
     "metadata": {},
     "output_type": "execute_result"
    }
   ],
   "source": [
    "import json\n",
    "import pandas as pd\n",
    "\n",
    "# abre e carrega o conteúdo do arquivo JSON do par USDCAD\n",
    "with open('download/usdcad-h1-bid-2023-04-21-2023-04-21.json') as f:\n",
    "    data_usdcad = json.load(f)\n",
    "\n",
    "# seleciona o último item da lista\n",
    "ultimo_item_usdcad = data_usdcad[-1]\n",
    "\n",
    "# abre e carrega o conteúdo do arquivo JSON do Brent crude oil\n",
    "with open('download/brentcmdusd-h1-bid-2023-04-21-2023-04-21.json') as f:\n",
    "    data_oil = json.load(f)\n",
    "\n",
    "# seleciona o último item da lista\n",
    "ultimo_item_oil = data_oil[-1]\n",
    "\n",
    "# cria um dicionário com as informações dos últimos itens\n",
    "ultimo_item_dict = {\n",
    "    'Open_usdcad': ultimo_item_usdcad['open'],\n",
    "    'High_usdcad': ultimo_item_usdcad['high'],\n",
    "    'Low_usdcad': ultimo_item_usdcad['low'],\n",
    "    'Close_usdcad': ultimo_item_usdcad['close'],\n",
    "    'Volume_usdcad': ultimo_item_usdcad['volume'],\n",
    "    'Open_oil': ultimo_item_oil['open'],\n",
    "    'High_oil': ultimo_item_oil['high'],\n",
    "    'Low_oil': ultimo_item_oil['low'],\n",
    "    'Close_oil': ultimo_item_oil['close'],\n",
    "    'Volume_oil': ultimo_item_oil['volume']\n",
    "}\n",
    "\n",
    "# converte o dicionário em um dataframe\n",
    "df = pd.DataFrame.from_dict([ultimo_item_dict])\n",
    "\n",
    "# adiciona as colunas \"year\", \"month\", \"day\" e \"hour\"\n",
    "df['year'] = pd.to_datetime(ultimo_item_usdcad['timestamp'], unit='ms').year\n",
    "df['month'] = pd.to_datetime(ultimo_item_usdcad['timestamp'], unit='ms').month\n",
    "df['day'] = pd.to_datetime(ultimo_item_usdcad['timestamp'], unit='ms').day\n",
    "df['hour'] = pd.to_datetime(ultimo_item_usdcad['timestamp'], unit='ms').hour\n",
    "\n",
    "# exibe o dataframe\n",
    "df\n"
   ]
  }
 ],
 "metadata": {
  "kernelspec": {
   "display_name": "Python 3 (ipykernel)",
   "language": "python",
   "name": "python3"
  },
  "language_info": {
   "codemirror_mode": {
    "name": "ipython",
    "version": 3
   },
   "file_extension": ".py",
   "mimetype": "text/x-python",
   "name": "python",
   "nbconvert_exporter": "python",
   "pygments_lexer": "ipython3",
   "version": "3.10.9"
  }
 },
 "nbformat": 4,
 "nbformat_minor": 5
}
