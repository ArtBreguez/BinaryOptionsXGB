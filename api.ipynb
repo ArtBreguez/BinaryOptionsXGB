{
 "cells": [
  {
   "cell_type": "code",
   "execution_count": 1,
   "id": "7b9415e8-511b-4879-8447-e2ccdb05f4e3",
   "metadata": {
    "tags": []
   },
   "outputs": [
    {
     "name": "stdout",
     "output_type": "stream",
     "text": [
      "\n",
      "up to date, audited 34 packages in 1s\n",
      "\n",
      "1 package is looking for funding\n",
      "  run `npm fund` for details\n",
      "\n",
      "found 0 vulnerabilities\n"
     ]
    },
    {
     "name": "stderr",
     "output_type": "stream",
     "text": [
      "npm WARN config global `--global`, `--local` are deprecated. Use `--location=global` instead.\n"
     ]
    }
   ],
   "source": [
    "!npm install dukascopy-node --save"
   ]
  },
  {
   "cell_type": "code",
   "execution_count": 10,
   "id": "cf813553",
   "metadata": {},
   "outputs": [
    {
     "data": {
      "text/plain": [
       "datetime.date(2023, 5, 9)"
      ]
     },
     "execution_count": 10,
     "metadata": {},
     "output_type": "execute_result"
    }
   ],
   "source": [
    "import datetime\n",
    "import pytz\n",
    "\n",
    "gmt_timezone = pytz.timezone('GMT')\n",
    "current_date_gmt = datetime.datetime.now(gmt_timezone).date()\n",
    "current_date_gmt"
   ]
  },
  {
   "cell_type": "code",
   "execution_count": 13,
   "id": "cfe2b839",
   "metadata": {},
   "outputs": [],
   "source": [
    "from datetime import datetime, timedelta\n",
    "\n",
    "# Obter a data de 4 dias atrás\n",
    "four_days_ago = datetime.today() - timedelta(days=5)\n",
    "\n",
    "# Obter a data atual\n",
    "today = datetime.today()\n",
    "\n",
    "# Formatar as datas no formato desejado\n",
    "from_date = four_days_ago.strftime(\"%Y-%m-%d\")\n",
    "now = current_date_gmt.strftime(\"%Y-%m-%d\")"
   ]
  },
  {
   "cell_type": "code",
   "execution_count": 3,
   "id": "7061b8bc-1a4b-47fc-9608-8c2da6beea41",
   "metadata": {
    "tags": []
   },
   "outputs": [
    {
     "name": "stdout",
     "output_type": "stream",
     "text": [
      "\u001b[90m----------------------------------------------------\u001b[39m\n",
      "\u001b[97mDownloading historical price data for:\u001b[39m\n",
      "\u001b[90m----------------------------------------------------\u001b[39m\n",
      "Instrument:     \u001b[1m\u001b[33mUS Dollar vs Canadian Dollar\u001b[39m\u001b[22m\n",
      "Timeframe:      \u001b[1m\u001b[33mh1\u001b[39m\u001b[22m\n",
      "From date:      \u001b[1m\u001b[33mMay 3, 2023, 12 AM\u001b[39m\u001b[22m\n",
      "To date:        \u001b[1m\u001b[33mMay 9, 2023, 1 AM\u001b[39m\u001b[22m\n",
      "Price type:     \u001b[1m\u001b[33mbid\u001b[39m\u001b[22m\n",
      "Volumes:        \u001b[1m\u001b[33mtrue\u001b[39m\u001b[22m\n",
      "UTC Offset:     \u001b[1m\u001b[33m0\u001b[39m\u001b[22m\n",
      "Include flats:  \u001b[1m\u001b[33mfalse\u001b[39m\u001b[22m\n",
      "Format:         \u001b[1m\u001b[33mjson\u001b[39m\u001b[22m\n",
      "\u001b[90m----------------------------------------------------\u001b[39m\n",
      "\u001b[90m----------------------------------------------------\u001b[39m\n",
      "\u001b[92m√ File saved: \u001b[1mdownload\\usdcad-h1-bid-2023-05-03-2023-05-09.json\u001b[22m (7.53 KB)\u001b[39m\n",
      "\n",
      "Download time: 1.9s\n",
      "\n"
     ]
    },
    {
     "name": "stderr",
     "output_type": "stream",
     "text": [
      "npm WARN config global `--global`, `--local` are deprecated. Use `--location=global` instead.\n"
     ]
    }
   ],
   "source": [
    "!npx dukascopy-node -i usdcad -from \"{from_date}\" -t h1 -f json --volumes\n"
   ]
  },
  {
   "cell_type": "code",
   "execution_count": 4,
   "id": "e20a853b-7928-4808-9435-2cf8db85429e",
   "metadata": {
    "tags": []
   },
   "outputs": [
    {
     "name": "stdout",
     "output_type": "stream",
     "text": [
      "\u001b[90m----------------------------------------------------\u001b[39m\n",
      "\u001b[97mDownloading historical price data for:\u001b[39m\n",
      "\u001b[90m----------------------------------------------------\u001b[39m\n",
      "Instrument:     \u001b[1m\u001b[33mUS Brent Crude Oil\u001b[39m\u001b[22m\n",
      "Timeframe:      \u001b[1m\u001b[33mh1\u001b[39m\u001b[22m\n",
      "From date:      \u001b[1m\u001b[33mMay 3, 2023, 12 AM\u001b[39m\u001b[22m\n",
      "To date:        \u001b[1m\u001b[33mMay 9, 2023, 1 AM\u001b[39m\u001b[22m\n",
      "Price type:     \u001b[1m\u001b[33mbid\u001b[39m\u001b[22m\n",
      "Volumes:        \u001b[1m\u001b[33mtrue\u001b[39m\u001b[22m\n",
      "UTC Offset:     \u001b[1m\u001b[33m0\u001b[39m\u001b[22m\n",
      "Include flats:  \u001b[1m\u001b[33mfalse\u001b[39m\u001b[22m\n",
      "Format:         \u001b[1m\u001b[33mjson\u001b[39m\u001b[22m\n",
      "\u001b[90m----------------------------------------------------\u001b[39m\n",
      "\u001b[90m----------------------------------------------------\u001b[39m\n",
      "\u001b[92m√ File saved: \u001b[1mdownload\\brentcmdusd-h1-bid-2023-05-03-2023-05-09.json\u001b[22m (8.38 KB)\u001b[39m\n",
      "\n",
      "Download time: 12.6s\n",
      "\n"
     ]
    },
    {
     "name": "stderr",
     "output_type": "stream",
     "text": [
      "npm WARN config global `--global`, `--local` are deprecated. Use `--location=global` instead.\n"
     ]
    }
   ],
   "source": [
    "!npx dukascopy-node -i brentcmdusd -from \"{from_date}\" -t h1 -f json --volumes\n"
   ]
  },
  {
   "cell_type": "code",
   "execution_count": 5,
   "id": "d5b6c677",
   "metadata": {},
   "outputs": [],
   "source": [
    "def add_bollinger_bands(df, period=20):\n",
    "    # Calcula a média móvel simples\n",
    "    df['SMA'] = df['Close_usdcad'].rolling(window=period).mean()\n",
    "\n",
    "    # Calcula o desvio padrão\n",
    "    df['STD'] = df['Close_usdcad'].rolling(window=period).std()\n",
    "\n",
    "    # Calcula a banda superior\n",
    "    df['Upper'] = df['SMA'] + (2 * df['STD'])\n",
    "\n",
    "    # Calcula a banda inferior\n",
    "    df['Lower'] = df['SMA'] - (2 * df['STD'])\n",
    "\n",
    "    # Retorna o dataframe com as bandas de Bollinger adicionadas\n",
    "    return df\n"
   ]
  },
  {
   "cell_type": "code",
   "execution_count": 6,
   "id": "fe6cf96a",
   "metadata": {},
   "outputs": [],
   "source": [
    "def add_stochastic_indicator(df, period=14):\n",
    "    # Calcula o preço mínimo dos últimos 14 dias\n",
    "    low_min = df['Low_usdcad'].rolling(window=period).min()\n",
    "\n",
    "    # Calcula o preço máximo dos últimos 14 dias\n",
    "    high_max = df['High_usdcad'].rolling(window=period).max()\n",
    "\n",
    "    # Calcula a diferença entre o preço de fechamento atual e o preço mínimo do período\n",
    "    close_diff = df['Close_usdcad'] - low_min\n",
    "\n",
    "    # Calcula a diferença entre o preço máximo e mínimo do período\n",
    "    high_diff = high_max - low_min\n",
    "\n",
    "    # Calcula a porcentagem da diferença entre o preço atual e o preço mínimo em relação à diferença entre o preço máximo e mínimo do período\n",
    "    stoch = close_diff / high_diff * 100\n",
    "\n",
    "    # Adiciona o resultado como uma nova coluna ao conjunto de dados\n",
    "    df['Stochastic'] = stoch\n",
    "\n",
    "    return df\n"
   ]
  },
  {
   "cell_type": "code",
   "execution_count": 7,
   "id": "232074c3",
   "metadata": {},
   "outputs": [],
   "source": [
    "def add_rsi(df, period=14):\n",
    "    \"\"\"\n",
    "    Adiciona a coluna RSI ao DataFrame fornecido.\n",
    "\n",
    "    Args:\n",
    "        df (pd.DataFrame): DataFrame contendo dados OHLC de um ativo.\n",
    "        period (int): Período de tempo para calcular o RSI.\n",
    "\n",
    "    Returns:\n",
    "        pd.DataFrame: DataFrame original com a coluna RSI adicionada.\n",
    "    \"\"\"\n",
    "    # Calcula as diferenças entre o preço de fechamento atual e o preço de fechamento do dia anterior\n",
    "    diff = df['Close_usdcad'].diff()\n",
    "\n",
    "    # Separa as diferenças em ganhos e perdas\n",
    "    gain = diff.where(diff > 0, 0)\n",
    "    loss = -diff.where(diff < 0, 0)\n",
    "\n",
    "    # Calcula a média móvel exponencial dos ganhos e perdas\n",
    "    ema_gain = gain.ewm(alpha=1/period, min_periods=period, adjust=False).mean()\n",
    "    ema_loss = loss.ewm(alpha=1/period, min_periods=period, adjust=False).mean()\n",
    "\n",
    "    # Calcula a relação entre a média móvel dos ganhos e perdas, obtendo o RSI\n",
    "    rs = ema_gain / ema_loss\n",
    "    rsi = 100 - (100 / (1 + rs))\n",
    "\n",
    "    # Adiciona o resultado como uma nova coluna ao conjunto de dados\n",
    "    df['RSI'] = rsi\n",
    "\n",
    "    return df"
   ]
  },
  {
   "cell_type": "code",
   "execution_count": 8,
   "id": "a2901418-4c24-41b3-a010-6264acffe962",
   "metadata": {
    "tags": []
   },
   "outputs": [
    {
     "ename": "NameError",
     "evalue": "name 'to_date' is not defined",
     "output_type": "error",
     "traceback": [
      "\u001b[1;31m---------------------------------------------------------------------------\u001b[0m",
      "\u001b[1;31mNameError\u001b[0m                                 Traceback (most recent call last)",
      "Cell \u001b[1;32mIn[8], line 7\u001b[0m\n\u001b[0;32m      4\u001b[0m RETURN_RANGE \u001b[39m=\u001b[39m \u001b[39m-\u001b[39m\u001b[39m0.5319985698963167\u001b[39m\n\u001b[0;32m      6\u001b[0m \u001b[39m# abre e carrega o conteúdo do arquivo JSON do par USDCAD\u001b[39;00m\n\u001b[1;32m----> 7\u001b[0m \u001b[39mwith\u001b[39;00m \u001b[39mopen\u001b[39m(\u001b[39mf\u001b[39m\u001b[39m'\u001b[39m\u001b[39mdownload/usdcad-h1-bid-\u001b[39m\u001b[39m{\u001b[39;00mfrom_date\u001b[39m}\u001b[39;00m\u001b[39m-\u001b[39m\u001b[39m{\u001b[39;00mto_date\u001b[39m}\u001b[39;00m\u001b[39m.json\u001b[39m\u001b[39m'\u001b[39m) \u001b[39mas\u001b[39;00m f:\n\u001b[0;32m      8\u001b[0m     data_usdcad \u001b[39m=\u001b[39m json\u001b[39m.\u001b[39mload(f)\n\u001b[0;32m     10\u001b[0m \u001b[39m# abre e carrega o conteúdo do arquivo JSON do Brent crude oil\u001b[39;00m\n",
      "\u001b[1;31mNameError\u001b[0m: name 'to_date' is not defined"
     ]
    }
   ],
   "source": [
    "import json\n",
    "import pandas as pd\n",
    "\n",
    "RETURN_RANGE = -0.5319985698963167\n",
    "\n",
    "# abre e carrega o conteúdo do arquivo JSON do par USDCAD\n",
    "with open(f'download/usdcad-h1-bid-{from_date}-{to_date}.json') as f:\n",
    "    data_usdcad = json.load(f)\n",
    "\n",
    "# abre e carrega o conteúdo do arquivo JSON do Brent crude oil\n",
    "with open(f'download/brentcmdusd-h1-bid-{from_date}-{to_date}.json') as f:\n",
    "    data_oil = json.load(f)\n",
    "\n",
    "# cria uma lista de dicionários com as informações de cada item\n",
    "lista_dict = []\n",
    "for item_usdcad, item_oil in zip(data_usdcad, data_oil):\n",
    "    dict_item = {\n",
    "        'Open_usdcad': item_usdcad['open'],\n",
    "        'High_usdcad': item_usdcad['high'],\n",
    "        'Low_usdcad': item_usdcad['low'],\n",
    "        'Close_usdcad': item_usdcad['close'],\n",
    "        'Volume_usdcad': item_usdcad['volume'],\n",
    "        'return': (item_usdcad['close'] - item_usdcad['open'])/ RETURN_RANGE,\n",
    "        'Open_oil': item_oil['open'],\n",
    "        'High_oil': item_oil['high'],\n",
    "        'Low_oil': item_oil['low'],\n",
    "        'Close_oil': item_oil['close'],\n",
    "        'Volume_oil': item_oil['volume']\n",
    "    }\n",
    "    lista_dict.append(dict_item)\n",
    "\n",
    "# converte a lista de dicionários em um dataframe\n",
    "df = pd.DataFrame.from_dict(lista_dict)\n",
    "\n",
    "# aplica os indicadores técnicos ao dataframe\n",
    "df = add_bollinger_bands(df)\n",
    "df = add_stochastic_indicator(df)\n",
    "df = add_rsi(df)\n",
    "\n",
    "# adiciona as colunas \"year\", \"month\", \"day\" e \"hour\"\n",
    "df['timestamp'] = pd.to_datetime(data_usdcad[0]['timestamp'], unit='ms')\n",
    "df['year'] = df['timestamp'].dt.year\n",
    "df['month'] = df['timestamp'].dt.month\n",
    "df['day'] = df['timestamp'].dt.day\n",
    "df['hour'] = df['timestamp'].dt.hour\n",
    "\n",
    "\n",
    "\n",
    "# exibe o dataframe\n",
    "df.tail(1)"
   ]
  },
  {
   "cell_type": "code",
   "execution_count": null,
   "id": "82d97663",
   "metadata": {},
   "outputs": [],
   "source": []
  }
 ],
 "metadata": {
  "kernelspec": {
   "display_name": "Python 3 (ipykernel)",
   "language": "python",
   "name": "python3"
  },
  "language_info": {
   "codemirror_mode": {
    "name": "ipython",
    "version": 3
   },
   "file_extension": ".py",
   "mimetype": "text/x-python",
   "name": "python",
   "nbconvert_exporter": "python",
   "pygments_lexer": "ipython3",
   "version": "3.10.9"
  }
 },
 "nbformat": 4,
 "nbformat_minor": 5
}
