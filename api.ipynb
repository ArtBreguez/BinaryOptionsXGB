{
 "cells": [
  {
   "cell_type": "code",
   "execution_count": 1,
   "id": "7b9415e8-511b-4879-8447-e2ccdb05f4e3",
   "metadata": {
    "execution": {
     "iopub.execute_input": "2023-05-09T17:36:32.081318Z",
     "iopub.status.busy": "2023-05-09T17:36:32.081318Z",
     "iopub.status.idle": "2023-05-09T17:36:34.637404Z",
     "shell.execute_reply": "2023-05-09T17:36:34.637404Z"
    },
    "tags": []
   },
   "outputs": [
    {
     "name": "stdout",
     "output_type": "stream",
     "text": [
      "\n",
      "up to date, audited 34 packages in 2s\n",
      "\n",
      "1 package is looking for funding\n",
      "  run `npm fund` for details\n",
      "\n",
      "found 0 vulnerabilities\n"
     ]
    },
    {
     "name": "stderr",
     "output_type": "stream",
     "text": [
      "npm WARN config global `--global`, `--local` are deprecated. Use `--location=global` instead.\n"
     ]
    }
   ],
   "source": [
    "!npm install dukascopy-node --save"
   ]
  },
  {
   "cell_type": "code",
   "execution_count": 2,
   "id": "828a35c0",
   "metadata": {
    "execution": {
     "iopub.execute_input": "2023-05-09T17:36:34.641310Z",
     "iopub.status.busy": "2023-05-09T17:36:34.640340Z",
     "iopub.status.idle": "2023-05-09T17:36:34.781928Z",
     "shell.execute_reply": "2023-05-09T17:36:34.780952Z"
    }
   },
   "outputs": [
    {
     "data": {
      "text/plain": [
       "datetime.date(2023, 5, 9)"
      ]
     },
     "execution_count": 2,
     "metadata": {},
     "output_type": "execute_result"
    }
   ],
   "source": [
    "import datetime\n",
    "import pytz\n",
    "\n",
    "gmt_timezone = pytz.timezone('GMT')\n",
    "current_date_gmt = datetime.datetime.now(gmt_timezone).date()\n",
    "current_date_gmt"
   ]
  },
  {
   "cell_type": "code",
   "execution_count": 3,
   "id": "cfe2b839",
   "metadata": {
    "execution": {
     "iopub.execute_input": "2023-05-09T17:36:34.784856Z",
     "iopub.status.busy": "2023-05-09T17:36:34.783879Z",
     "iopub.status.idle": "2023-05-09T17:36:34.788763Z",
     "shell.execute_reply": "2023-05-09T17:36:34.788763Z"
    }
   },
   "outputs": [],
   "source": [
    "from datetime import datetime, timedelta\n",
    "\n",
    "# Obter a data de 4 dias atrás\n",
    "four_days_ago = datetime.today() - timedelta(days=5)\n",
    "\n",
    "# Obter a data atual\n",
    "today = datetime.today()\n",
    "\n",
    "# Formatar as datas no formato desejado\n",
    "from_date = four_days_ago.strftime(\"%Y-%m-%d\")\n",
    "now = current_date_gmt.strftime(\"%Y-%m-%d\")"
   ]
  },
  {
   "cell_type": "code",
   "execution_count": 4,
   "id": "7061b8bc-1a4b-47fc-9608-8c2da6beea41",
   "metadata": {
    "execution": {
     "iopub.execute_input": "2023-05-09T17:36:34.791692Z",
     "iopub.status.busy": "2023-05-09T17:36:34.791692Z",
     "iopub.status.idle": "2023-05-09T17:36:42.723244Z",
     "shell.execute_reply": "2023-05-09T17:36:42.723244Z"
    },
    "tags": []
   },
   "outputs": [
    {
     "name": "stdout",
     "output_type": "stream",
     "text": [
      "\u001b[90m----------------------------------------------------\u001b[39m\n",
      "\u001b[97mDownloading historical price data for:\u001b[39m\n",
      "\u001b[90m----------------------------------------------------\u001b[39m\n",
      "Instrument:     \u001b[1m\u001b[33mUS Dollar vs Canadian Dollar\u001b[39m\u001b[22m\n",
      "Timeframe:      \u001b[1m\u001b[33mh1\u001b[39m\u001b[22m\n",
      "From date:      \u001b[1m\u001b[33mMay 4, 2023, 12 AM\u001b[39m\u001b[22m\n",
      "To date:        \u001b[1m\u001b[33mMay 9, 2023, 5 PM\u001b[39m\u001b[22m\n",
      "Price type:     \u001b[1m\u001b[33mbid\u001b[39m\u001b[22m\n",
      "Volumes:        \u001b[1m\u001b[33mtrue\u001b[39m\u001b[22m\n",
      "UTC Offset:     \u001b[1m\u001b[33m0\u001b[39m\u001b[22m\n",
      "Include flats:  \u001b[1m\u001b[33mfalse\u001b[39m\u001b[22m\n",
      "Format:         \u001b[1m\u001b[33mjson\u001b[39m\u001b[22m\n",
      "\u001b[90m----------------------------------------------------\u001b[39m\n",
      "\u001b[90m----------------------------------------------------\u001b[39m\n",
      "\u001b[92mâˆš File saved: \u001b[1mdownload\\usdcad-h1-bid-2023-05-04-2023-05-09.json\u001b[22m (3.4 KB)\u001b[39m\n",
      "\n",
      "Download time: 6.6s\n",
      "\n"
     ]
    },
    {
     "name": "stderr",
     "output_type": "stream",
     "text": [
      "npm WARN config global `--global`, `--local` are deprecated. Use `--location=global` instead.\n"
     ]
    }
   ],
   "source": [
    "!npx dukascopy-node -i usdcad -from \"{from_date}\" -t h1 -f json --volumes\n"
   ]
  },
  {
   "cell_type": "code",
   "execution_count": 5,
   "id": "e20a853b-7928-4808-9435-2cf8db85429e",
   "metadata": {
    "execution": {
     "iopub.execute_input": "2023-05-09T17:36:42.726171Z",
     "iopub.status.busy": "2023-05-09T17:36:42.726171Z",
     "iopub.status.idle": "2023-05-09T17:36:50.859910Z",
     "shell.execute_reply": "2023-05-09T17:36:50.858933Z"
    },
    "tags": []
   },
   "outputs": [
    {
     "name": "stdout",
     "output_type": "stream",
     "text": [
      "\u001b[90m----------------------------------------------------\u001b[39m\n",
      "\u001b[97mDownloading historical price data for:\u001b[39m\n",
      "\u001b[90m----------------------------------------------------\u001b[39m\n",
      "Instrument:     \u001b[1m\u001b[33mUS Brent Crude Oil\u001b[39m\u001b[22m\n",
      "Timeframe:      \u001b[1m\u001b[33mh1\u001b[39m\u001b[22m\n",
      "From date:      \u001b[1m\u001b[33mMay 4, 2023, 12 AM\u001b[39m\u001b[22m\n",
      "To date:        \u001b[1m\u001b[33mMay 9, 2023, 5 PM\u001b[39m\u001b[22m\n",
      "Price type:     \u001b[1m\u001b[33mbid\u001b[39m\u001b[22m\n",
      "Volumes:        \u001b[1m\u001b[33mtrue\u001b[39m\u001b[22m\n",
      "UTC Offset:     \u001b[1m\u001b[33m0\u001b[39m\u001b[22m\n",
      "Include flats:  \u001b[1m\u001b[33mfalse\u001b[39m\u001b[22m\n",
      "Format:         \u001b[1m\u001b[33mjson\u001b[39m\u001b[22m\n",
      "\u001b[90m----------------------------------------------------\u001b[39m\n",
      "\u001b[90m----------------------------------------------------\u001b[39m\n",
      "\u001b[92mâˆš File saved: \u001b[1mdownload\\brentcmdusd-h1-bid-2023-05-04-2023-05-09.json\u001b[22m (3.25 KB)\u001b[39m\n",
      "\n",
      "Download time: 6.8s\n",
      "\n"
     ]
    },
    {
     "name": "stderr",
     "output_type": "stream",
     "text": [
      "npm WARN config global `--global`, `--local` are deprecated. Use `--location=global` instead.\n"
     ]
    }
   ],
   "source": [
    "!npx dukascopy-node -i brentcmdusd -from \"{from_date}\" -t h1 -f json --volumes\n"
   ]
  },
  {
   "cell_type": "code",
   "execution_count": 6,
   "id": "d5b6c677",
   "metadata": {
    "execution": {
     "iopub.execute_input": "2023-05-09T17:36:50.864791Z",
     "iopub.status.busy": "2023-05-09T17:36:50.864791Z",
     "iopub.status.idle": "2023-05-09T17:36:50.872604Z",
     "shell.execute_reply": "2023-05-09T17:36:50.871628Z"
    }
   },
   "outputs": [],
   "source": [
    "def add_bollinger_bands(df, period=20):\n",
    "    # Calcula a média móvel simples\n",
    "    df['SMA'] = df['Close_usdcad'].rolling(window=period).mean()\n",
    "\n",
    "    # Calcula o desvio padrão\n",
    "    df['STD'] = df['Close_usdcad'].rolling(window=period).std()\n",
    "\n",
    "    # Calcula a banda superior\n",
    "    df['Upper'] = df['SMA'] + (2 * df['STD'])\n",
    "\n",
    "    # Calcula a banda inferior\n",
    "    df['Lower'] = df['SMA'] - (2 * df['STD'])\n",
    "\n",
    "    # Retorna o dataframe com as bandas de Bollinger adicionadas\n",
    "    return df\n"
   ]
  },
  {
   "cell_type": "code",
   "execution_count": 7,
   "id": "fe6cf96a",
   "metadata": {
    "execution": {
     "iopub.execute_input": "2023-05-09T17:36:50.876511Z",
     "iopub.status.busy": "2023-05-09T17:36:50.876511Z",
     "iopub.status.idle": "2023-05-09T17:36:50.885300Z",
     "shell.execute_reply": "2023-05-09T17:36:50.884321Z"
    }
   },
   "outputs": [],
   "source": [
    "def add_stochastic_indicator(df, period=14):\n",
    "    # Calcula o preço mínimo dos últimos 14 dias\n",
    "    low_min = df['Low_usdcad'].rolling(window=period).min()\n",
    "\n",
    "    # Calcula o preço máximo dos últimos 14 dias\n",
    "    high_max = df['High_usdcad'].rolling(window=period).max()\n",
    "\n",
    "    # Calcula a diferença entre o preço de fechamento atual e o preço mínimo do período\n",
    "    close_diff = df['Close_usdcad'] - low_min\n",
    "\n",
    "    # Calcula a diferença entre o preço máximo e mínimo do período\n",
    "    high_diff = high_max - low_min\n",
    "\n",
    "    # Calcula a porcentagem da diferença entre o preço atual e o preço mínimo em relação à diferença entre o preço máximo e mínimo do período\n",
    "    stoch = close_diff / high_diff * 100\n",
    "\n",
    "    # Adiciona o resultado como uma nova coluna ao conjunto de dados\n",
    "    df['Stochastic'] = stoch\n",
    "\n",
    "    return df\n"
   ]
  },
  {
   "cell_type": "code",
   "execution_count": 8,
   "id": "232074c3",
   "metadata": {
    "execution": {
     "iopub.execute_input": "2023-05-09T17:36:50.890181Z",
     "iopub.status.busy": "2023-05-09T17:36:50.889207Z",
     "iopub.status.idle": "2023-05-09T17:36:50.898969Z",
     "shell.execute_reply": "2023-05-09T17:36:50.897993Z"
    }
   },
   "outputs": [],
   "source": [
    "def add_rsi(df, period=14):\n",
    "    \"\"\"\n",
    "    Adiciona a coluna RSI ao DataFrame fornecido.\n",
    "\n",
    "    Args:\n",
    "        df (pd.DataFrame): DataFrame contendo dados OHLC de um ativo.\n",
    "        period (int): Período de tempo para calcular o RSI.\n",
    "\n",
    "    Returns:\n",
    "        pd.DataFrame: DataFrame original com a coluna RSI adicionada.\n",
    "    \"\"\"\n",
    "    # Calcula as diferenças entre o preço de fechamento atual e o preço de fechamento do dia anterior\n",
    "    diff = df['Close_usdcad'].diff()\n",
    "\n",
    "    # Separa as diferenças em ganhos e perdas\n",
    "    gain = diff.where(diff > 0, 0)\n",
    "    loss = -diff.where(diff < 0, 0)\n",
    "\n",
    "    # Calcula a média móvel exponencial dos ganhos e perdas\n",
    "    ema_gain = gain.ewm(alpha=1/period, min_periods=period, adjust=False).mean()\n",
    "    ema_loss = loss.ewm(alpha=1/period, min_periods=period, adjust=False).mean()\n",
    "\n",
    "    # Calcula a relação entre a média móvel dos ganhos e perdas, obtendo o RSI\n",
    "    rs = ema_gain / ema_loss\n",
    "    rsi = 100 - (100 / (1 + rs))\n",
    "\n",
    "    # Adiciona o resultado como uma nova coluna ao conjunto de dados\n",
    "    df['RSI'] = rsi\n",
    "\n",
    "    return df"
   ]
  },
  {
   "cell_type": "code",
   "execution_count": 9,
   "id": "a2901418-4c24-41b3-a010-6264acffe962",
   "metadata": {
    "execution": {
     "iopub.execute_input": "2023-05-09T17:36:50.902877Z",
     "iopub.status.busy": "2023-05-09T17:36:50.902877Z",
     "iopub.status.idle": "2023-05-09T17:36:51.712676Z",
     "shell.execute_reply": "2023-05-09T17:36:51.711701Z"
    },
    "tags": []
   },
   "outputs": [],
   "source": [
    "import json\n",
    "import pandas as pd\n",
    "import numpy as np\n",
    "\n",
    "RETURN_RANGE = 0.03991000000000011\n",
    "\n",
    "# abre e carrega o conteúdo do arquivo JSON do par USDCAD\n",
    "with open(f'download/usdcad-h1-bid-{from_date}-{now}.json') as f:\n",
    "    data_usdcad = json.load(f)\n",
    "\n",
    "# abre e carrega o conteúdo do arquivo JSON do Brent crude oil\n",
    "with open(f'download/brentcmdusd-h1-bid-{from_date}-{now}.json') as f:\n",
    "    data_oil = json.load(f)\n",
    "\n",
    "# cria uma lista de dicionários com as informações de cada item\n",
    "lista_dict = []\n",
    "for item_usdcad, item_oil in zip(data_usdcad, data_oil):\n",
    "    dict_item = {\n",
    "        'Open_usdcad': item_usdcad['open'],\n",
    "        'High_usdcad': item_usdcad['high'],\n",
    "        'Low_usdcad': item_usdcad['low'],\n",
    "        'Close_usdcad': item_usdcad['close'],\n",
    "        'Volume_usdcad': item_usdcad['volume'],\n",
    "        'return': (item_usdcad['close'] - item_usdcad['open'])/ RETURN_RANGE,\n",
    "        'Open_oil': item_oil['open'],\n",
    "        'High_oil': item_oil['high'],\n",
    "        'Low_oil': item_oil['low'],\n",
    "        'Close_oil': item_oil['close'],\n",
    "        'Volume_oil': item_oil['volume'],\n",
    "        'timestamp': item_usdcad['timestamp'],\n",
    "    }\n",
    "    lista_dict.append(dict_item)\n",
    "\n",
    "# converte a lista de dicionários em um dataframe\n",
    "df = pd.DataFrame.from_dict(lista_dict)\n",
    "\n",
    "# aplica os indicadores técnicos ao dataframe\n",
    "df = add_bollinger_bands(df)\n",
    "df = add_stochastic_indicator(df)\n",
    "df = add_rsi(df)\n",
    "\n",
    "\n",
    "# adiciona as colunas \"year\", \"month\", \"day\" e \"hour\"\n",
    "df['timestamp'] = pd.to_datetime(df['timestamp'], unit='ms')\n",
    "df['year'] = df['timestamp'].apply(lambda x: x.year)\n",
    "df['month'] = df['timestamp'].apply(lambda x: x.month)\n",
    "df['day'] = df['timestamp'].apply(lambda x: x.day)\n",
    "df['hour'] = df['timestamp'].apply(lambda x: x.hour)\n",
    "\n",
    "\n",
    "df = df.drop(['timestamp', 'STD'], axis=1)\n",
    "# lista com as colunas na ordem desejada\n",
    "new_order = ['Open_usdcad', 'High_usdcad', 'Low_usdcad', 'Close_usdcad', 'Volume_usdcad', 'SMA', 'Upper', 'Lower', 'Stochastic', 'RSI', 'return', 'Open_oil', 'High_oil', 'Low_oil', 'Close_oil', 'Volume_oil', 'year', 'month', 'day', 'hour']\n",
    "\n",
    "# reindexando as colunas do dataframe\n",
    "df = df.reindex(columns=new_order)\n",
    "# exibe o dataframe\n",
    "X = df.iloc[-1]\n",
    "X_2d = np.array(X).reshape(1, -1)"
   ]
  },
  {
   "cell_type": "code",
   "execution_count": 10,
   "id": "82d97663",
   "metadata": {
    "execution": {
     "iopub.execute_input": "2023-05-09T17:36:51.716583Z",
     "iopub.status.busy": "2023-05-09T17:36:51.715609Z",
     "iopub.status.idle": "2023-05-09T17:36:54.421490Z",
     "shell.execute_reply": "2023-05-09T17:36:54.421490Z"
    }
   },
   "outputs": [
    {
     "name": "stdout",
     "output_type": "stream",
     "text": [
      "[0]\n"
     ]
    },
    {
     "name": "stderr",
     "output_type": "stream",
     "text": [
      "C:\\Users\\arthu\\AppData\\Roaming\\Python\\Python310\\site-packages\\sklearn\\base.py:439: UserWarning: X does not have valid feature names, but GradientBoostingClassifier was fitted with feature names\n",
      "  warnings.warn(\n"
     ]
    }
   ],
   "source": [
    "import pickle\n",
    "\n",
    "# Carregue o modelo\n",
    "with open('usdcad.pkl', 'rb') as f:\n",
    "    modelo = pickle.load(f)\n",
    "\n",
    "\n",
    "predicao = modelo.predict(X_2d)\n",
    "\n",
    "print(predicao)\n"
   ]
  },
  {
   "cell_type": "code",
   "execution_count": 11,
   "id": "ad0563b6",
   "metadata": {
    "execution": {
     "iopub.execute_input": "2023-05-09T17:36:54.425397Z",
     "iopub.status.busy": "2023-05-09T17:36:54.424420Z",
     "iopub.status.idle": "2023-05-09T17:37:01.260752Z",
     "shell.execute_reply": "2023-05-09T17:37:01.260752Z"
    }
   },
   "outputs": [],
   "source": [
    "from telethon import TelegramClient\n",
    "import urllib\n",
    "import requests\n",
    "import logging\n",
    "\n",
    "def send_message_to_telegram_channel(text):\n",
    "    messages = {\n",
    "        '0': \"Call H1 ⚫\",\n",
    "        '1': \"PUT H1 🔴\",\n",
    "    }\n",
    "\n",
    "    message = messages.get(text, \"\")\n",
    "\n",
    "    encoded_message = urllib.parse.quote(message)\n",
    "    url = \"https://api.telegram.org/bot\" + \"6137889365:AAHlJ6w_TZ_i9QWwVsIe77HlI4X279FXlq8\" + \"/sendMessage?chat_id=\" + \"-1001816698688\" + \"&text=\" + encoded_message\n",
    "\n",
    "    try:\n",
    "        resp = requests.get(url)\n",
    "    except requests.exceptions.RequestException as e:\n",
    "        logging.error(\"Error sending message to telegram channel: \" + str(e))\n",
    "        return"
   ]
  },
  {
   "cell_type": "code",
   "execution_count": 12,
   "id": "1dbaa1c3",
   "metadata": {
    "execution": {
     "iopub.execute_input": "2023-05-09T17:37:01.264659Z",
     "iopub.status.busy": "2023-05-09T17:37:01.264659Z",
     "iopub.status.idle": "2023-05-09T17:37:02.871833Z",
     "shell.execute_reply": "2023-05-09T17:37:02.871833Z"
    }
   },
   "outputs": [],
   "source": [
    "send_message_to_telegram_channel(str(predicao[0]))"
   ]
  },
  {
   "cell_type": "code",
   "execution_count": 13,
   "id": "9abc0c1a",
   "metadata": {
    "execution": {
     "iopub.execute_input": "2023-05-09T17:37:02.875737Z",
     "iopub.status.busy": "2023-05-09T17:37:02.874759Z",
     "iopub.status.idle": "2023-05-09T17:37:02.880620Z",
     "shell.execute_reply": "2023-05-09T17:37:02.879643Z"
    }
   },
   "outputs": [],
   "source": [
    "import os\n",
    "\n",
    "def limpar_diretorio_download():\n",
    "    diretorio_download = 'download'\n",
    "    for arquivo in os.listdir(diretorio_download):\n",
    "        caminho_arquivo = os.path.join(diretorio_download, arquivo)\n",
    "        if os.path.isfile(caminho_arquivo):\n",
    "            os.remove(caminho_arquivo)\n"
   ]
  },
  {
   "cell_type": "code",
   "execution_count": 14,
   "id": "f3ad69de",
   "metadata": {
    "execution": {
     "iopub.execute_input": "2023-05-09T17:37:02.883552Z",
     "iopub.status.busy": "2023-05-09T17:37:02.882573Z",
     "iopub.status.idle": "2023-05-09T17:37:02.887456Z",
     "shell.execute_reply": "2023-05-09T17:37:02.887456Z"
    }
   },
   "outputs": [],
   "source": [
    "limpar_diretorio_download()"
   ]
  },
  {
   "cell_type": "code",
   "execution_count": null,
   "id": "d2a1c0f3",
   "metadata": {},
   "outputs": [],
   "source": []
  }
 ],
 "metadata": {
  "kernelspec": {
   "display_name": "Python 3 (ipykernel)",
   "language": "python",
   "name": "python3"
  },
  "language_info": {
   "codemirror_mode": {
    "name": "ipython",
    "version": 3
   },
   "file_extension": ".py",
   "mimetype": "text/x-python",
   "name": "python",
   "nbconvert_exporter": "python",
   "pygments_lexer": "ipython3",
   "version": "3.10.9"
  }
 },
 "nbformat": 4,
 "nbformat_minor": 5
}
